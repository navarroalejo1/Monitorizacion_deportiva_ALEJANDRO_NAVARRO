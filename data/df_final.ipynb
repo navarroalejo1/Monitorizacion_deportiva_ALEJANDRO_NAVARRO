{
 "cells": [
  {
   "cell_type": "markdown",
   "id": "3ecbde4d",
   "metadata": {},
   "source": [
    "\n",
    "# 🧠 Notebook: Generación del Dataset Consolidado `df_final.csv`\n",
    "\n",
    "## 📌 Objetivo General\n",
    "Integrar múltiples archivos `.csv` ubicados en la carpeta `data/`, correspondientes a diferentes deportes, en un único archivo llamado `df_final.csv`, que será la base de análisis para la monitorización de los datos deportivos.\n"
   ]
  },
  {
   "cell_type": "markdown",
   "id": "337d4042",
   "metadata": {},
   "source": [
    "## 🥇 Paso 1: Cargar todos los archivos CSV"
   ]
  },
  {
   "cell_type": "code",
   "execution_count": 6,
   "id": "f778180f",
   "metadata": {},
   "outputs": [
    {
     "name": "stdout",
     "output_type": "stream",
     "text": [
      "📁 Archivos encontrados: ['Atletismo_2024.csv', 'Badminton_2024.csv', 'Baloncesto_Femenino_2024.csv', 'Baloncesto_Masculino_2024.csv', 'Balonmano_Femenino_2024.csv', 'Balonmano_Masculino_2024.csv', 'Gimnasia_2024.csv']\n"
     ]
    }
   ],
   "source": [
    "from pathlib import Path\n",
    "import pandas as pd\n",
    "\n",
    "# ✅ Usamos la carpeta actual (donde está el notebook) como base\n",
    "data_folder = Path(\".\")  # Este notebook está en data/, así que buscamos en la misma carpeta\n",
    "output_folder = data_folder / \"concat\"\n",
    "output_folder.mkdir(parents=True, exist_ok=True)  # Crea 'data/concat' si no existe\n",
    "\n",
    "# 🔍 Buscar todos los archivos CSV en esta carpeta\n",
    "csv_files = list(data_folder.glob(\"*.csv\"))\n",
    "\n",
    "# 📋 Mostrar archivos encontrados para verificación\n",
    "print(\"📁 Archivos encontrados:\", [f.name for f in csv_files])\n"
   ]
  },
  {
   "cell_type": "markdown",
   "id": "4c5b0513",
   "metadata": {},
   "source": [
    "## 🧩 Paso 2: Lectura individual e identificación del deporte"
   ]
  },
  {
   "cell_type": "code",
   "execution_count": 7,
   "id": "3aee6551",
   "metadata": {},
   "outputs": [],
   "source": [
    "\n",
    "dataframes = []\n",
    "for file in csv_files:\n",
    "    try:\n",
    "        df = pd.read_csv(file)\n",
    "        deporte = file.stem.split(\"_\")[0]\n",
    "        df.insert(0, \"Deporte\", deporte)  # Agregar columna con el nombre del deporte\n",
    "        dataframes.append(df)\n",
    "    except Exception as e:\n",
    "        print(f\"❌ Error leyendo {file.name}: {e}\")\n"
   ]
  },
  {
   "cell_type": "markdown",
   "id": "e1b8b960",
   "metadata": {},
   "source": [
    "## 🔗 Paso 3: Concatenación flexible (merge por outer join)"
   ]
  },
  {
   "cell_type": "code",
   "execution_count": 8,
   "id": "2c006979",
   "metadata": {},
   "outputs": [
    {
     "name": "stdout",
     "output_type": "stream",
     "text": [
      "✅ DataFrame concatenado con 31979 filas y 36 columnas.\n"
     ]
    }
   ],
   "source": [
    "\n",
    "if dataframes:\n",
    "    df_final = pd.concat(dataframes, ignore_index=True, sort=False)\n",
    "    print(f\"✅ DataFrame concatenado con {df_final.shape[0]} filas y {df_final.shape[1]} columnas.\")\n",
    "else:\n",
    "    print(\"⚠️ No hay archivos válidos para concatenar.\")\n"
   ]
  },
  {
   "cell_type": "markdown",
   "id": "daf9d2fb",
   "metadata": {},
   "source": [
    "## 💾 Paso 4: Guardar el archivo consolidado"
   ]
  },
  {
   "cell_type": "code",
   "execution_count": 9,
   "id": "0ac452fc",
   "metadata": {},
   "outputs": [
    {
     "name": "stdout",
     "output_type": "stream",
     "text": [
      "📁 Archivo guardado en: concat\\df_final.csv\n"
     ]
    }
   ],
   "source": [
    "\n",
    "if dataframes:\n",
    "    output_path = output_folder / \"df_final.csv\"\n",
    "    df_final.to_csv(output_path, index=False)\n",
    "    print(f\"📁 Archivo guardado en: {output_path}\")\n"
   ]
  },
  {
   "cell_type": "markdown",
   "id": "6f4515a1",
   "metadata": {},
   "source": [
    "## ✅ Resultado\n",
    "\n",
    "El DataFrame final contiene todas las columnas y filas sin perder información, con nombre del deporte en la primera columna y estructura homogénea para su análisis posterior."
   ]
  }
 ],
 "metadata": {
  "kernelspec": {
   "display_name": "Python 3",
   "language": "python",
   "name": "python3"
  },
  "language_info": {
   "codemirror_mode": {
    "name": "ipython",
    "version": 3
   },
   "file_extension": ".py",
   "mimetype": "text/x-python",
   "name": "python",
   "nbconvert_exporter": "python",
   "pygments_lexer": "ipython3",
   "version": "3.13.2"
  }
 },
 "nbformat": 4,
 "nbformat_minor": 5
}
