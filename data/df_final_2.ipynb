{
 "cells": [
  {
   "cell_type": "markdown",
   "id": "3ecbde4d",
   "metadata": {},
   "source": [
    "\n",
    "# 🧠 Notebook: Generación del Dataset Consolidado `df_final.csv`\n",
    "\n",
    "## 📌 Objetivo General\n",
    "Integrar múltiples archivos `.csv` ubicados en la carpeta `data/`, correspondientes a diferentes deportes, en un único archivo llamado `df_final.csv`, que será la base de análisis para la monitorización de los datos deportivos.\n"
   ]
  },
  {
   "cell_type": "markdown",
   "id": "337d4042",
   "metadata": {},
   "source": [
    "## 🥇 Paso 1: Cargar todos los archivos CSV"
   ]
  },
  {
   "cell_type": "code",
   "execution_count": 25,
   "id": "f778180f",
   "metadata": {},
   "outputs": [
    {
     "name": "stdout",
     "output_type": "stream",
     "text": [
      "📁 Archivos encontrados: ['Atletismo_2024.csv', 'Badminton_2024.csv', 'Baloncesto_Femenino_2024.csv', 'Baloncesto_Masculino_2024.csv', 'Balonmano_Femenino_2024.csv', 'Balonmano_Masculino_2024.csv', 'Gimnasia_2024.csv']\n"
     ]
    }
   ],
   "source": [
    "from pathlib import Path\n",
    "import pandas as pd\n",
    "\n",
    "# ✅ Usamos la carpeta actual (donde está el notebook) como base\n",
    "data_folder = Path(\".\")  # Este notebook está en data/, así que buscamos en la misma carpeta\n",
    "output_folder = data_folder / \"concat\"\n",
    "output_folder.mkdir(parents=True, exist_ok=True)  # Crea 'data/concat' si no existe\n",
    "\n",
    "# 🔍 Buscar todos los archivos CSV en esta carpeta\n",
    "csv_files = list(data_folder.glob(\"*.csv\"))\n",
    "\n",
    "# 📋 Mostrar archivos encontrados para verificación\n",
    "print(\"📁 Archivos encontrados:\", [f.name for f in csv_files])\n"
   ]
  },
  {
   "cell_type": "markdown",
   "id": "4c5b0513",
   "metadata": {},
   "source": [
    "## 🧩 Paso 2: Lectura individual e identificación del deporte"
   ]
  },
  {
   "cell_type": "code",
   "execution_count": 26,
   "id": "3aee6551",
   "metadata": {},
   "outputs": [],
   "source": [
    "\n",
    "dataframes = []\n",
    "for file in csv_files:\n",
    "    try:\n",
    "        df = pd.read_csv(file)\n",
    "        deporte = file.stem.split(\"_\")[0]\n",
    "        df.insert(0, \"Deporte\", deporte)  # Agregar columna con el nombre del deporte\n",
    "        dataframes.append(df)\n",
    "    except Exception as e:\n",
    "        print(f\"❌ Error leyendo {file.name}: {e}\")\n"
   ]
  },
  {
   "cell_type": "code",
   "execution_count": 27,
   "id": "37397d6e",
   "metadata": {},
   "outputs": [
    {
     "name": "stdout",
     "output_type": "stream",
     "text": [
      "✅ Procesado: Atletismo_2024.csv\n",
      "✅ Procesado: Badminton_2024.csv\n",
      "✅ Procesado: Baloncesto_Femenino_2024.csv\n",
      "✅ Procesado: Baloncesto_Masculino_2024.csv\n",
      "✅ Procesado: Balonmano_Femenino_2024.csv\n",
      "✅ Procesado: Balonmano_Masculino_2024.csv\n",
      "✅ Procesado: Gimnasia_2024.csv\n"
     ]
    }
   ],
   "source": [
    "dataframes = []\n",
    "\n",
    "for archivo in csv_files:\n",
    "    nombre_archivo = archivo.stem  # ej: Atletismo_2024\n",
    "\n",
    "    # === Extraer metadatos desde el nombre del archivo ===\n",
    "    deporte = nombre_archivo.split(\"_\")[0].capitalize()\n",
    "\n",
    "    genero_archivo = None\n",
    "    if \"Femenino\" in nombre_archivo:\n",
    "        genero_archivo = \"Femenino\"\n",
    "    elif \"Masculino\" in nombre_archivo:\n",
    "        genero_archivo = \"Masculino\"\n",
    "\n",
    "    try:\n",
    "        # === Leer archivo ===\n",
    "        df = pd.read_csv(archivo)\n",
    "        df.columns = df.columns.str.strip().str.upper()\n",
    "\n",
    "        # === Añadir o completar columna GENERO solo si aplica ===\n",
    "        if \"GENERO\" in df.columns:\n",
    "            df[\"GENERO\"] = df[\"GENERO\"].fillna(\"\").astype(str).str.strip().str.capitalize()\n",
    "            if genero_archivo and df[\"GENERO\"].eq(\"\").all():\n",
    "                df[\"GENERO\"] = genero_archivo\n",
    "        elif genero_archivo:\n",
    "            df[\"GENERO\"] = genero_archivo\n",
    "        # Si no tiene género detectado y no estaba en el archivo, se deja sin columna\n",
    "\n",
    "        # === Agregar columna DEPORTE ===\n",
    "        df[\"DEPORTE\"] = deporte\n",
    "\n",
    "        dataframes.append(df)\n",
    "\n",
    "        print(f\"✅ Procesado: {archivo.name}\")\n",
    "\n",
    "    except Exception as e:\n",
    "        print(f\"❌ Error con {archivo.name}: {e}\")\n"
   ]
  },
  {
   "cell_type": "code",
   "execution_count": 28,
   "id": "89d86689",
   "metadata": {},
   "outputs": [],
   "source": [
    "df_final = pd.concat(dataframes, ignore_index=True)\n",
    "df_final.to_csv(output_folder / \"df_final.csv\", index=False)\n"
   ]
  },
  {
   "cell_type": "markdown",
   "id": "e1b8b960",
   "metadata": {},
   "source": [
    "## 🔗 Paso 3: Concatenación flexible (merge por outer join)"
   ]
  },
  {
   "cell_type": "code",
   "execution_count": 29,
   "id": "2c006979",
   "metadata": {},
   "outputs": [
    {
     "name": "stdout",
     "output_type": "stream",
     "text": [
      "✅ DataFrame concatenado con 31979 filas y 36 columnas.\n"
     ]
    }
   ],
   "source": [
    "\n",
    "if dataframes:\n",
    "    df_final = pd.concat(dataframes, ignore_index=True, sort=False)\n",
    "    print(f\"✅ DataFrame concatenado con {df_final.shape[0]} filas y {df_final.shape[1]} columnas.\")\n",
    "else:\n",
    "    print(\"⚠️ No hay archivos válidos para concatenar.\")\n"
   ]
  },
  {
   "cell_type": "markdown",
   "id": "daf9d2fb",
   "metadata": {},
   "source": [
    "## 💾 Paso 4: Guardar el archivo consolidado"
   ]
  },
  {
   "cell_type": "code",
   "execution_count": 30,
   "id": "0ac452fc",
   "metadata": {},
   "outputs": [
    {
     "name": "stdout",
     "output_type": "stream",
     "text": [
      "📁 Archivo guardado en: concat\\df_final_2.csv\n"
     ]
    }
   ],
   "source": [
    "\n",
    "if dataframes:\n",
    "    output_path = output_folder / \"df_final_2.csv\"\n",
    "    df_final.to_csv(output_path, index=False)\n",
    "    print(f\"📁 Archivo guardado en: {output_path}\")\n"
   ]
  },
  {
   "cell_type": "markdown",
   "id": "6f4515a1",
   "metadata": {},
   "source": [
    "## ✅ Resultado\n",
    "\n",
    "El DataFrame final contiene todas las columnas y filas sin perder información, con nombre del deporte en la primera columna y estructura homogénea para su análisis posterior."
   ]
  }
 ],
 "metadata": {
  "kernelspec": {
   "display_name": "Python 3",
   "language": "python",
   "name": "python3"
  },
  "language_info": {
   "codemirror_mode": {
    "name": "ipython",
    "version": 3
   },
   "file_extension": ".py",
   "mimetype": "text/x-python",
   "name": "python",
   "nbconvert_exporter": "python",
   "pygments_lexer": "ipython3",
   "version": "3.13.2"
  }
 },
 "nbformat": 4,
 "nbformat_minor": 5
}
