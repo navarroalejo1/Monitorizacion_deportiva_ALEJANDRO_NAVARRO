{
 "cells": [
  {
   "cell_type": "code",
   "execution_count": 1,
   "id": "bf20e9f5",
   "metadata": {},
   "outputs": [
    {
     "name": "stdout",
     "output_type": "stream",
     "text": [
      "Columnas disponibles: ['FECHA', 'MODALIDAD', 'ATLETA', 'TIPO_ENC', 'TIPO_ACT', 'SUEÑO', 'FATIGA', 'ESTRÉS', 'DOLOR', 'HORAS_SUEÑO', 'IMPIDE', 'MOLESTIA', 'IMPIDE_2', 'TIEMPO', 'PSE', 'DEPORTE', 'VFC', 'EVENTO', 'FASE', 'RIVAL', 'RESULTADO', 'SET_GANADOS', 'SET_PERDIDOS', 'EQUIPO', 'PTS_ANOT', 'PTS_REC', 'GENERO', 'NAN', 'COMENTARIO', 'TIPO_COM', 'FECHA_COMPETENCIA', 'NOMBRE_EVENTO', 'PRUEBA', 'DIFICULTAD', 'POSICON_PRUEBA', 'PUNTAJE']\n",
      "Valores únicos en columna ENCUESTA: ❌ No existe columna ENCUESTA\n",
      "Valores únicos en columna Tipo_enc: ❌ No existe columna Tipo_enc\n"
     ]
    }
   ],
   "source": [
    "from utils.data_loader import load_df_final\n",
    "\n",
    "df = load_df_final()\n",
    "print(\"Columnas disponibles:\", df.columns.tolist())\n",
    "print(\"Valores únicos en columna ENCUESTA:\", df['ENCUESTA'].unique() if 'ENCUESTA' in df.columns else \"❌ No existe columna ENCUESTA\")\n",
    "print(\"Valores únicos en columna Tipo_enc:\", df['Tipo_enc'].unique() if 'Tipo_enc' in df.columns else \"❌ No existe columna Tipo_enc\")\n"
   ]
  }
 ],
 "metadata": {
  "kernelspec": {
   "display_name": "Python 3",
   "language": "python",
   "name": "python3"
  },
  "language_info": {
   "codemirror_mode": {
    "name": "ipython",
    "version": 3
   },
   "file_extension": ".py",
   "mimetype": "text/x-python",
   "name": "python",
   "nbconvert_exporter": "python",
   "pygments_lexer": "ipython3",
   "version": "3.13.2"
  }
 },
 "nbformat": 4,
 "nbformat_minor": 5
}
